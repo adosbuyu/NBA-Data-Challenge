{
 "cells": [
  {
   "cell_type": "markdown",
   "metadata": {},
   "source": [
    "# Nba Regular Season 2018-19 Data Challenge\n",
    "\n",
    "Your task will be to take the dataset given, and create an analysis answering the following 10 questions. This project will again test your knowledge of pandas in order to find the answers needed given the data you are presented with."
   ]
  },
  {
   "cell_type": "markdown",
   "metadata": {},
   "source": [
    "# What was the average age of player in the league?"
   ]
  },
  {
   "cell_type": "code",
   "execution_count": 42,
   "metadata": {},
   "outputs": [
    {
     "name": "stdout",
     "output_type": "stream",
     "text": [
      "The average age of players in the NBA for the 2018-2019 season was: 25.9\n"
     ]
    }
   ],
   "source": [
    "import pandas as pd\n",
    "\n",
    "nba_data = pd.read_csv(\"nbastats2018-2019.csv\")\n",
    "\n",
    "#nba_data.head()\n",
    "\n",
    "player_age = nba_data[['Name', 'Age']]\n",
    "\n",
    "average_age = player_age['Age'].mean()\n",
    "\n",
    "print(\"The average age of players in the NBA for the 2018-2019 season was:\", round(average_age, 2))"
   ]
  },
  {
   "cell_type": "markdown",
   "metadata": {},
   "source": [
    "# What player scored the most points?"
   ]
  },
  {
   "cell_type": "code",
   "execution_count": 2,
   "metadata": {},
   "outputs": [
    {
     "name": "stdout",
     "output_type": "stream",
     "text": [
      "The player who scored the most points in the NBA for the 2018-2019 season was: James Harden\n",
      "Points scored: 36.1\n"
     ]
    }
   ],
   "source": [
    "player_most_points = nba_data.loc[nba_data['Points'].idxmax()]\n",
    "\n",
    "print(\"The player who scored the most points in the NBA for the 2018-2019 season was:\", player_most_points['Name'])\n",
    "print(\"Points scored:\", player_most_points['Points'])"
   ]
  },
  {
   "cell_type": "markdown",
   "metadata": {},
   "source": [
    "# What player had the most blocks during the season? Was it a post player (F/C)?"
   ]
  },
  {
   "cell_type": "code",
   "execution_count": 15,
   "metadata": {},
   "outputs": [
    {
     "name": "stdout",
     "output_type": "stream",
     "text": [
      "The player who had the most blocks during the NBA regular season 2018-2019 was: Myles Turner\n",
      "Blocks: 2.7\n",
      "Based on their performance in Blocks, FGA, FTA, PER, OWS, and DWS, the player is likely a post player.\n"
     ]
    }
   ],
   "source": [
    "player_most_blocks = nba_data.loc[nba_data['Blocks'].idxmax()]\n",
    "\n",
    "print(\"The player who had the most blocks during the NBA regular season 2018-2019 was:\", player_most_blocks['Name'])\n",
    "print(\"Blocks:\", player_most_blocks['Blocks'])\n",
    "\n",
    "blocks = player_most_blocks['Blocks']\n",
    "fga = player_most_blocks['FGA']\n",
    "fta = player_most_blocks['FTA']\n",
    "per = player_most_blocks['PER']\n",
    "ows = player_most_blocks['OWS']\n",
    "dws = player_most_blocks['DWS']\n",
    "\n",
    "# Determine if the player is a post player based on their performance\n",
    "if blocks > 0 and fga > 0 and fta > 0 and per > 0 and ows > 0 and dws > 0:\n",
    "    print(\"Based on their performance in Blocks, FGA, FTA, PER, OWS, and DWS, the player is likely a post player.\")\n",
    "else:\n",
    "    print(\"Based on their performance in Blocks, FGA, FTA, PER, OWS, and DWS, the player may not necessarily be a post player.\")"
   ]
  },
  {
   "cell_type": "markdown",
   "metadata": {},
   "source": [
    "# Based on the regular season, who had the best chance to win a title given their win percentage?"
   ]
  },
  {
   "cell_type": "code",
   "execution_count": 20,
   "metadata": {},
   "outputs": [
    {
     "name": "stdout",
     "output_type": "stream",
     "text": [
      "The team with the best chance to win a title based on win percentage is: Milwaukee Bucks\n"
     ]
    }
   ],
   "source": [
    "nba_data[\"Win Percentage\"] = nba_data[\"WS\"] / nba_data[\"G\"]\n",
    "\n",
    "# Sort data by win percentage in descending order\n",
    "sorted_data = nba_data.sort_values(by=\"Win Percentage\", ascending=False)\n",
    "\n",
    "# Get the team with the highest win percentage\n",
    "best_team = sorted_data.iloc[0][\"Team\"]\n",
    "\n",
    "# Print the result\n",
    "print(f\"The team with the best chance to win a title based on win percentage is: {best_team}\")\n"
   ]
  },
  {
   "cell_type": "markdown",
   "metadata": {},
   "source": [
    "# What player had the best 3-pt percentage? "
   ]
  },
  {
   "cell_type": "code",
   "execution_count": 25,
   "metadata": {},
   "outputs": [
    {
     "name": "stdout",
     "output_type": "stream",
     "text": [
      "The player with the highest 3-pt percentage was: Trevon Duval\n",
      "3-pt percantage: 1.0\n"
     ]
    }
   ],
   "source": [
    "nba_data['FG3%'] = pd.to_numeric(nba_data['FG3%'], errors = 'coerce')\n",
    "\n",
    "player_best_fg3 = nba_data.loc[nba_data['FG3%'].idxmax()]\n",
    "\n",
    "print(\"The player with the highest 3-pt percentage was:\",player_best_fg3['Name'] )\n",
    "print(\"3-pt percantage:\",player_best_fg3['FG3%'])"
   ]
  },
  {
   "cell_type": "markdown",
   "metadata": {},
   "source": [
    "# Who played the most minutes during the season"
   ]
  },
  {
   "cell_type": "code",
   "execution_count": 27,
   "metadata": {},
   "outputs": [
    {
     "name": "stdout",
     "output_type": "stream",
     "text": [
      "The player who played the most minutes during the season:  Bradley Beal\n",
      "Total Minutes played: 36.9\n"
     ]
    }
   ],
   "source": [
    "player_most_minutes = nba_data.loc[nba_data['MP'].idxmax()]\n",
    "\n",
    "print(\"The player who played the most minutes during the season: \",player_most_minutes['Name'])\n",
    "print(\"Total Minutes played:\",player_most_minutes['MP'])"
   ]
  },
  {
   "cell_type": "markdown",
   "metadata": {},
   "source": [
    "# What player given their player effiecency rating was the clutchest during the season?"
   ]
  },
  {
   "cell_type": "code",
   "execution_count": 29,
   "metadata": {},
   "outputs": [
    {
     "name": "stdout",
     "output_type": "stream",
     "text": [
      "The player with the highest PER was: Zhou Qi\n",
      "PER: 80.4\n"
     ]
    }
   ],
   "source": [
    "player_highest_per = nba_data.loc[nba_data['PER'].idxmax()]\n",
    "\n",
    "print(\"The player with the highest PER was:\",player_highest_per['Name'])\n",
    "print(\"PER:\", player_highest_per['PER'])"
   ]
  },
  {
   "cell_type": "markdown",
   "metadata": {},
   "source": [
    "# What team had the youngest roster?"
   ]
  },
  {
   "cell_type": "code",
   "execution_count": 34,
   "metadata": {},
   "outputs": [
    {
     "name": "stdout",
     "output_type": "stream",
     "text": [
      "The team with the youngest roster: Chicago Bulls\n",
      "Average age: 24.31\n"
     ]
    }
   ],
   "source": [
    "team_ages = nba_data.groupby('Team')['Age'].mean().reset_index()\n",
    "\n",
    "youngest_team = team_ages.loc[team_ages['Age'].idxmin()]\n",
    "\n",
    "print(\"The team with the youngest roster:\", youngest_team['Team'])\n",
    "print(f\"Average age: {youngest_team['Age']:.2f}\")"
   ]
  },
  {
   "cell_type": "markdown",
   "metadata": {},
   "source": [
    "# Who is the highest paid player during the seasion?"
   ]
  },
  {
   "cell_type": "code",
   "execution_count": 37,
   "metadata": {},
   "outputs": [
    {
     "name": "stdout",
     "output_type": "stream",
     "text": [
      "The highest paid player: Stephen Curry\n",
      "Salary: 37457154.0\n"
     ]
    }
   ],
   "source": [
    "nba_data['Salary'] = pd.to_numeric(nba_data['Salary'], errors='coerce')\n",
    "\n",
    "highest_paid_player = nba_data.loc[nba_data['Salary'].idxmax()]\n",
    "\n",
    "print(\"The highest paid player:\", highest_paid_player['Name'])\n",
    "print(\"Salary:\", highest_paid_player['Salary'])"
   ]
  },
  {
   "cell_type": "markdown",
   "metadata": {},
   "source": [
    "# At the end of a game, who WOULDN'T you want on the Free Throw Line?"
   ]
  },
  {
   "cell_type": "code",
   "execution_count": 41,
   "metadata": {},
   "outputs": [
    {
     "name": "stdout",
     "output_type": "stream",
     "text": [
      "Players you wouldn't want on the free throw line at the end of a game:\n",
      "Terrence Jones - FT%: 0.0\n",
      "Haywood Highsmith - FT%: 0.0\n",
      "Donatas Motiejunas - FT%: 0.0\n",
      "C.J. Williams - FT%: 0.0\n",
      "Jacob Evans - FT%: 0.0\n",
      "Dzanan Musa - FT%: 0.0\n",
      "Tahjere McCall - FT%: 0.0\n",
      "Melvin Frazier - FT%: 0.25\n",
      "Ray Spalding - FT%: 0.333\n",
      "Tyler Lydon - FT%: 0.333\n",
      "Luc Mbah a Moute - FT%: 0.4\n",
      "Lonzo Ball - FT%: 0.417\n",
      "Kosta Koufos - FT%: 0.417\n",
      "Gary Trent Jr. - FT%: 0.429\n",
      "Hassan Whiteside - FT%: 0.449\n"
     ]
    }
   ],
   "source": [
    "lowest_shooting_players = nba_data.sort_values(by='FT%', ascending = True).head(15)\n",
    "\n",
    "print(\"Players you wouldn't want on the free throw line at the end of a game:\")\n",
    "for index, player in lowest_shooting_players.iterrows():\n",
    "    print(player['Name'], \"- FT%:\", player['FT%'])"
   ]
  }
 ],
 "metadata": {
  "kernelspec": {
   "display_name": "Python 3 (ipykernel)",
   "language": "python",
   "name": "python3"
  },
  "language_info": {
   "codemirror_mode": {
    "name": "ipython",
    "version": 3
   },
   "file_extension": ".py",
   "mimetype": "text/x-python",
   "name": "python",
   "nbconvert_exporter": "python",
   "pygments_lexer": "ipython3",
   "version": "3.11.5"
  }
 },
 "nbformat": 4,
 "nbformat_minor": 2
}
